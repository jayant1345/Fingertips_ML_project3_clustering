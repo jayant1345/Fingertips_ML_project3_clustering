{
 "cells": [
  {
   "cell_type": "code",
   "execution_count": 1,
   "id": "c83ad359",
   "metadata": {},
   "outputs": [],
   "source": [
    "import pandas as pd\n",
    "import numpy as np\n",
    "import os\n",
    "import matplotlib.pyplot as plt\n",
    "import seaborn as sns\n",
    "os.chdir(r\"C:\\Users\\JAYANT\\Desktop\\python_240624\\Finger_tips_project\\Project3_clustering_cardiac_arrest\")"
   ]
  },
  {
   "cell_type": "code",
   "execution_count": 2,
   "id": "54cddad5",
   "metadata": {},
   "outputs": [
    {
     "data": {
      "text/plain": [
       "'C:\\\\Users\\\\JAYANT\\\\Desktop\\\\python_240624\\\\Finger_tips_project\\\\Project3_clustering_cardiac_arrest'"
      ]
     },
     "execution_count": 2,
     "metadata": {},
     "output_type": "execute_result"
    }
   ],
   "source": [
    "pwd"
   ]
  },
  {
   "cell_type": "code",
   "execution_count": 3,
   "id": "20757d29",
   "metadata": {},
   "outputs": [],
   "source": [
    "import warnings\n",
    "warnings.filterwarnings(\"ignore\")"
   ]
  },
  {
   "cell_type": "code",
   "execution_count": 4,
   "id": "c6913a07",
   "metadata": {},
   "outputs": [
    {
     "data": {
      "text/html": [
       "<div>\n",
       "<style scoped>\n",
       "    .dataframe tbody tr th:only-of-type {\n",
       "        vertical-align: middle;\n",
       "    }\n",
       "\n",
       "    .dataframe tbody tr th {\n",
       "        vertical-align: top;\n",
       "    }\n",
       "\n",
       "    .dataframe thead th {\n",
       "        text-align: right;\n",
       "    }\n",
       "</style>\n",
       "<table border=\"1\" class=\"dataframe\">\n",
       "  <thead>\n",
       "    <tr style=\"text-align: right;\">\n",
       "      <th></th>\n",
       "      <th>Gender</th>\n",
       "      <th>Chain_smoker</th>\n",
       "      <th>Consumes_other_tobacco_products</th>\n",
       "      <th>HighBP</th>\n",
       "      <th>Obese</th>\n",
       "      <th>Diabetes</th>\n",
       "      <th>Metabolic_syndrome</th>\n",
       "      <th>Use_of_stimulant_drugs</th>\n",
       "      <th>Family_history</th>\n",
       "      <th>History_of_preeclampsia</th>\n",
       "      <th>CABG_history</th>\n",
       "      <th>Respiratory_illness</th>\n",
       "      <th>UnderRisk</th>\n",
       "    </tr>\n",
       "  </thead>\n",
       "  <tbody>\n",
       "    <tr>\n",
       "      <th>0</th>\n",
       "      <td>1</td>\n",
       "      <td>1</td>\n",
       "      <td>1</td>\n",
       "      <td>0</td>\n",
       "      <td>1</td>\n",
       "      <td>0</td>\n",
       "      <td>0</td>\n",
       "      <td>0</td>\n",
       "      <td>1</td>\n",
       "      <td>0</td>\n",
       "      <td>0</td>\n",
       "      <td>0</td>\n",
       "      <td>no</td>\n",
       "    </tr>\n",
       "    <tr>\n",
       "      <th>1</th>\n",
       "      <td>1</td>\n",
       "      <td>0</td>\n",
       "      <td>1</td>\n",
       "      <td>0</td>\n",
       "      <td>1</td>\n",
       "      <td>0</td>\n",
       "      <td>0</td>\n",
       "      <td>0</td>\n",
       "      <td>1</td>\n",
       "      <td>0</td>\n",
       "      <td>0</td>\n",
       "      <td>0</td>\n",
       "      <td>no</td>\n",
       "    </tr>\n",
       "    <tr>\n",
       "      <th>2</th>\n",
       "      <td>1</td>\n",
       "      <td>0</td>\n",
       "      <td>1</td>\n",
       "      <td>0</td>\n",
       "      <td>1</td>\n",
       "      <td>0</td>\n",
       "      <td>0</td>\n",
       "      <td>0</td>\n",
       "      <td>1</td>\n",
       "      <td>0</td>\n",
       "      <td>0</td>\n",
       "      <td>0</td>\n",
       "      <td>no</td>\n",
       "    </tr>\n",
       "    <tr>\n",
       "      <th>3</th>\n",
       "      <td>1</td>\n",
       "      <td>0</td>\n",
       "      <td>1</td>\n",
       "      <td>0</td>\n",
       "      <td>1</td>\n",
       "      <td>0</td>\n",
       "      <td>0</td>\n",
       "      <td>0</td>\n",
       "      <td>1</td>\n",
       "      <td>0</td>\n",
       "      <td>0</td>\n",
       "      <td>0</td>\n",
       "      <td>no</td>\n",
       "    </tr>\n",
       "    <tr>\n",
       "      <th>4</th>\n",
       "      <td>1</td>\n",
       "      <td>0</td>\n",
       "      <td>0</td>\n",
       "      <td>0</td>\n",
       "      <td>0</td>\n",
       "      <td>0</td>\n",
       "      <td>1</td>\n",
       "      <td>1</td>\n",
       "      <td>0</td>\n",
       "      <td>0</td>\n",
       "      <td>0</td>\n",
       "      <td>0</td>\n",
       "      <td>no</td>\n",
       "    </tr>\n",
       "  </tbody>\n",
       "</table>\n",
       "</div>"
      ],
      "text/plain": [
       "   Gender  Chain_smoker  Consumes_other_tobacco_products  HighBP  Obese  \\\n",
       "0       1             1                                1       0      1   \n",
       "1       1             0                                1       0      1   \n",
       "2       1             0                                1       0      1   \n",
       "3       1             0                                1       0      1   \n",
       "4       1             0                                0       0      0   \n",
       "\n",
       "   Diabetes  Metabolic_syndrome  Use_of_stimulant_drugs  Family_history  \\\n",
       "0         0                   0                       0               1   \n",
       "1         0                   0                       0               1   \n",
       "2         0                   0                       0               1   \n",
       "3         0                   0                       0               1   \n",
       "4         0                   1                       1               0   \n",
       "\n",
       "   History_of_preeclampsia  CABG_history  Respiratory_illness UnderRisk  \n",
       "0                        0             0                    0        no  \n",
       "1                        0             0                    0        no  \n",
       "2                        0             0                    0        no  \n",
       "3                        0             0                    0        no  \n",
       "4                        0             0                    0        no  "
      ]
     },
     "execution_count": 4,
     "metadata": {},
     "output_type": "execute_result"
    }
   ],
   "source": [
    "data=pd.read_csv(r\"ML Project - Clustering Cardiac Arrest U16955461930.csv\")\n",
    "data.head()"
   ]
  },
  {
   "cell_type": "code",
   "execution_count": 5,
   "id": "672cc701",
   "metadata": {},
   "outputs": [
    {
     "name": "stdout",
     "output_type": "stream",
     "text": [
      "<class 'pandas.core.frame.DataFrame'>\n",
      "RangeIndex: 889 entries, 0 to 888\n",
      "Data columns (total 13 columns):\n",
      " #   Column                           Non-Null Count  Dtype \n",
      "---  ------                           --------------  ----- \n",
      " 0   Gender                           889 non-null    int64 \n",
      " 1   Chain_smoker                     889 non-null    int64 \n",
      " 2   Consumes_other_tobacco_products  889 non-null    int64 \n",
      " 3   HighBP                           889 non-null    int64 \n",
      " 4   Obese                            889 non-null    int64 \n",
      " 5   Diabetes                         889 non-null    int64 \n",
      " 6   Metabolic_syndrome               889 non-null    int64 \n",
      " 7   Use_of_stimulant_drugs           889 non-null    int64 \n",
      " 8   Family_history                   889 non-null    int64 \n",
      " 9   History_of_preeclampsia          889 non-null    int64 \n",
      " 10  CABG_history                     889 non-null    int64 \n",
      " 11  Respiratory_illness              889 non-null    int64 \n",
      " 12  UnderRisk                        889 non-null    object\n",
      "dtypes: int64(12), object(1)\n",
      "memory usage: 90.4+ KB\n"
     ]
    }
   ],
   "source": [
    "data.info()"
   ]
  },
  {
   "cell_type": "code",
   "execution_count": 6,
   "id": "1846c059",
   "metadata": {},
   "outputs": [
    {
     "data": {
      "text/html": [
       "<div>\n",
       "<style scoped>\n",
       "    .dataframe tbody tr th:only-of-type {\n",
       "        vertical-align: middle;\n",
       "    }\n",
       "\n",
       "    .dataframe tbody tr th {\n",
       "        vertical-align: top;\n",
       "    }\n",
       "\n",
       "    .dataframe thead th {\n",
       "        text-align: right;\n",
       "    }\n",
       "</style>\n",
       "<table border=\"1\" class=\"dataframe\">\n",
       "  <thead>\n",
       "    <tr style=\"text-align: right;\">\n",
       "      <th></th>\n",
       "      <th>Gender</th>\n",
       "      <th>Chain_smoker</th>\n",
       "      <th>Consumes_other_tobacco_products</th>\n",
       "      <th>HighBP</th>\n",
       "      <th>Obese</th>\n",
       "      <th>Diabetes</th>\n",
       "      <th>Metabolic_syndrome</th>\n",
       "      <th>Use_of_stimulant_drugs</th>\n",
       "      <th>Family_history</th>\n",
       "      <th>History_of_preeclampsia</th>\n",
       "      <th>CABG_history</th>\n",
       "      <th>Respiratory_illness</th>\n",
       "    </tr>\n",
       "  </thead>\n",
       "  <tbody>\n",
       "    <tr>\n",
       "      <th>count</th>\n",
       "      <td>889.000</td>\n",
       "      <td>889.000</td>\n",
       "      <td>889.000</td>\n",
       "      <td>889.000</td>\n",
       "      <td>889.000</td>\n",
       "      <td>889.000</td>\n",
       "      <td>889.000</td>\n",
       "      <td>889.000</td>\n",
       "      <td>889.000</td>\n",
       "      <td>889.000</td>\n",
       "      <td>889.000</td>\n",
       "      <td>889.000</td>\n",
       "    </tr>\n",
       "    <tr>\n",
       "      <th>mean</th>\n",
       "      <td>1.259</td>\n",
       "      <td>0.120</td>\n",
       "      <td>0.838</td>\n",
       "      <td>0.087</td>\n",
       "      <td>0.919</td>\n",
       "      <td>0.055</td>\n",
       "      <td>0.043</td>\n",
       "      <td>0.082</td>\n",
       "      <td>0.926</td>\n",
       "      <td>0.018</td>\n",
       "      <td>0.021</td>\n",
       "      <td>0.033</td>\n",
       "    </tr>\n",
       "    <tr>\n",
       "      <th>std</th>\n",
       "      <td>0.501</td>\n",
       "      <td>0.326</td>\n",
       "      <td>0.369</td>\n",
       "      <td>0.281</td>\n",
       "      <td>0.273</td>\n",
       "      <td>0.228</td>\n",
       "      <td>0.202</td>\n",
       "      <td>0.275</td>\n",
       "      <td>0.262</td>\n",
       "      <td>0.133</td>\n",
       "      <td>0.145</td>\n",
       "      <td>0.178</td>\n",
       "    </tr>\n",
       "    <tr>\n",
       "      <th>min</th>\n",
       "      <td>0.000</td>\n",
       "      <td>0.000</td>\n",
       "      <td>0.000</td>\n",
       "      <td>0.000</td>\n",
       "      <td>0.000</td>\n",
       "      <td>0.000</td>\n",
       "      <td>0.000</td>\n",
       "      <td>0.000</td>\n",
       "      <td>0.000</td>\n",
       "      <td>0.000</td>\n",
       "      <td>0.000</td>\n",
       "      <td>0.000</td>\n",
       "    </tr>\n",
       "    <tr>\n",
       "      <th>25%</th>\n",
       "      <td>1.000</td>\n",
       "      <td>0.000</td>\n",
       "      <td>1.000</td>\n",
       "      <td>0.000</td>\n",
       "      <td>1.000</td>\n",
       "      <td>0.000</td>\n",
       "      <td>0.000</td>\n",
       "      <td>0.000</td>\n",
       "      <td>1.000</td>\n",
       "      <td>0.000</td>\n",
       "      <td>0.000</td>\n",
       "      <td>0.000</td>\n",
       "    </tr>\n",
       "    <tr>\n",
       "      <th>50%</th>\n",
       "      <td>1.000</td>\n",
       "      <td>0.000</td>\n",
       "      <td>1.000</td>\n",
       "      <td>0.000</td>\n",
       "      <td>1.000</td>\n",
       "      <td>0.000</td>\n",
       "      <td>0.000</td>\n",
       "      <td>0.000</td>\n",
       "      <td>1.000</td>\n",
       "      <td>0.000</td>\n",
       "      <td>0.000</td>\n",
       "      <td>0.000</td>\n",
       "    </tr>\n",
       "    <tr>\n",
       "      <th>75%</th>\n",
       "      <td>2.000</td>\n",
       "      <td>0.000</td>\n",
       "      <td>1.000</td>\n",
       "      <td>0.000</td>\n",
       "      <td>1.000</td>\n",
       "      <td>0.000</td>\n",
       "      <td>0.000</td>\n",
       "      <td>0.000</td>\n",
       "      <td>1.000</td>\n",
       "      <td>0.000</td>\n",
       "      <td>0.000</td>\n",
       "      <td>0.000</td>\n",
       "    </tr>\n",
       "    <tr>\n",
       "      <th>max</th>\n",
       "      <td>2.000</td>\n",
       "      <td>1.000</td>\n",
       "      <td>1.000</td>\n",
       "      <td>1.000</td>\n",
       "      <td>1.000</td>\n",
       "      <td>1.000</td>\n",
       "      <td>1.000</td>\n",
       "      <td>1.000</td>\n",
       "      <td>1.000</td>\n",
       "      <td>1.000</td>\n",
       "      <td>1.000</td>\n",
       "      <td>1.000</td>\n",
       "    </tr>\n",
       "  </tbody>\n",
       "</table>\n",
       "</div>"
      ],
      "text/plain": [
       "        Gender  Chain_smoker  Consumes_other_tobacco_products   HighBP  \\\n",
       "count  889.000       889.000                          889.000  889.000   \n",
       "mean     1.259         0.120                            0.838    0.087   \n",
       "std      0.501         0.326                            0.369    0.281   \n",
       "min      0.000         0.000                            0.000    0.000   \n",
       "25%      1.000         0.000                            1.000    0.000   \n",
       "50%      1.000         0.000                            1.000    0.000   \n",
       "75%      2.000         0.000                            1.000    0.000   \n",
       "max      2.000         1.000                            1.000    1.000   \n",
       "\n",
       "         Obese  Diabetes  Metabolic_syndrome  Use_of_stimulant_drugs  \\\n",
       "count  889.000   889.000             889.000                 889.000   \n",
       "mean     0.919     0.055               0.043                   0.082   \n",
       "std      0.273     0.228               0.202                   0.275   \n",
       "min      0.000     0.000               0.000                   0.000   \n",
       "25%      1.000     0.000               0.000                   0.000   \n",
       "50%      1.000     0.000               0.000                   0.000   \n",
       "75%      1.000     0.000               0.000                   0.000   \n",
       "max      1.000     1.000               1.000                   1.000   \n",
       "\n",
       "       Family_history  History_of_preeclampsia  CABG_history  \\\n",
       "count         889.000                  889.000       889.000   \n",
       "mean            0.926                    0.018         0.021   \n",
       "std             0.262                    0.133         0.145   \n",
       "min             0.000                    0.000         0.000   \n",
       "25%             1.000                    0.000         0.000   \n",
       "50%             1.000                    0.000         0.000   \n",
       "75%             1.000                    0.000         0.000   \n",
       "max             1.000                    1.000         1.000   \n",
       "\n",
       "       Respiratory_illness  \n",
       "count              889.000  \n",
       "mean                 0.033  \n",
       "std                  0.178  \n",
       "min                  0.000  \n",
       "25%                  0.000  \n",
       "50%                  0.000  \n",
       "75%                  0.000  \n",
       "max                  1.000  "
      ]
     },
     "execution_count": 6,
     "metadata": {},
     "output_type": "execute_result"
    }
   ],
   "source": [
    "pd.set_option(\"display.float_format\",lambda x: \"% .3f\"%x)\n",
    "data.describe()"
   ]
  },
  {
   "cell_type": "code",
   "execution_count": 7,
   "id": "7fe331df",
   "metadata": {},
   "outputs": [
    {
     "data": {
      "text/plain": [
       "Gender                             0\n",
       "Chain_smoker                       0\n",
       "Consumes_other_tobacco_products    0\n",
       "HighBP                             0\n",
       "Obese                              0\n",
       "Diabetes                           0\n",
       "Metabolic_syndrome                 0\n",
       "Use_of_stimulant_drugs             0\n",
       "Family_history                     0\n",
       "History_of_preeclampsia            0\n",
       "CABG_history                       0\n",
       "Respiratory_illness                0\n",
       "UnderRisk                          0\n",
       "dtype: int64"
      ]
     },
     "execution_count": 7,
     "metadata": {},
     "output_type": "execute_result"
    }
   ],
   "source": [
    "data.isnull().sum()"
   ]
  },
  {
   "cell_type": "code",
   "execution_count": 8,
   "id": "2b26e807",
   "metadata": {},
   "outputs": [
    {
     "data": {
      "text/html": [
       "<div>\n",
       "<style scoped>\n",
       "    .dataframe tbody tr th:only-of-type {\n",
       "        vertical-align: middle;\n",
       "    }\n",
       "\n",
       "    .dataframe tbody tr th {\n",
       "        vertical-align: top;\n",
       "    }\n",
       "\n",
       "    .dataframe thead th {\n",
       "        text-align: right;\n",
       "    }\n",
       "</style>\n",
       "<table border=\"1\" class=\"dataframe\">\n",
       "  <thead>\n",
       "    <tr style=\"text-align: right;\">\n",
       "      <th></th>\n",
       "      <th>Gender</th>\n",
       "      <th>Chain_smoker</th>\n",
       "      <th>Consumes_other_tobacco_products</th>\n",
       "      <th>HighBP</th>\n",
       "      <th>Obese</th>\n",
       "      <th>Diabetes</th>\n",
       "      <th>Metabolic_syndrome</th>\n",
       "      <th>Use_of_stimulant_drugs</th>\n",
       "      <th>Family_history</th>\n",
       "      <th>History_of_preeclampsia</th>\n",
       "      <th>CABG_history</th>\n",
       "      <th>Respiratory_illness</th>\n",
       "      <th>UnderRisk</th>\n",
       "    </tr>\n",
       "  </thead>\n",
       "  <tbody>\n",
       "    <tr>\n",
       "      <th>2</th>\n",
       "      <td>1</td>\n",
       "      <td>0</td>\n",
       "      <td>1</td>\n",
       "      <td>0</td>\n",
       "      <td>1</td>\n",
       "      <td>0</td>\n",
       "      <td>0</td>\n",
       "      <td>0</td>\n",
       "      <td>1</td>\n",
       "      <td>0</td>\n",
       "      <td>0</td>\n",
       "      <td>0</td>\n",
       "      <td>no</td>\n",
       "    </tr>\n",
       "    <tr>\n",
       "      <th>3</th>\n",
       "      <td>1</td>\n",
       "      <td>0</td>\n",
       "      <td>1</td>\n",
       "      <td>0</td>\n",
       "      <td>1</td>\n",
       "      <td>0</td>\n",
       "      <td>0</td>\n",
       "      <td>0</td>\n",
       "      <td>1</td>\n",
       "      <td>0</td>\n",
       "      <td>0</td>\n",
       "      <td>0</td>\n",
       "      <td>no</td>\n",
       "    </tr>\n",
       "    <tr>\n",
       "      <th>7</th>\n",
       "      <td>2</td>\n",
       "      <td>0</td>\n",
       "      <td>1</td>\n",
       "      <td>0</td>\n",
       "      <td>1</td>\n",
       "      <td>0</td>\n",
       "      <td>0</td>\n",
       "      <td>0</td>\n",
       "      <td>1</td>\n",
       "      <td>0</td>\n",
       "      <td>0</td>\n",
       "      <td>0</td>\n",
       "      <td>no</td>\n",
       "    </tr>\n",
       "    <tr>\n",
       "      <th>8</th>\n",
       "      <td>1</td>\n",
       "      <td>0</td>\n",
       "      <td>1</td>\n",
       "      <td>0</td>\n",
       "      <td>1</td>\n",
       "      <td>0</td>\n",
       "      <td>0</td>\n",
       "      <td>0</td>\n",
       "      <td>1</td>\n",
       "      <td>0</td>\n",
       "      <td>0</td>\n",
       "      <td>0</td>\n",
       "      <td>no</td>\n",
       "    </tr>\n",
       "    <tr>\n",
       "      <th>9</th>\n",
       "      <td>1</td>\n",
       "      <td>0</td>\n",
       "      <td>1</td>\n",
       "      <td>0</td>\n",
       "      <td>0</td>\n",
       "      <td>0</td>\n",
       "      <td>0</td>\n",
       "      <td>1</td>\n",
       "      <td>1</td>\n",
       "      <td>0</td>\n",
       "      <td>0</td>\n",
       "      <td>0</td>\n",
       "      <td>no</td>\n",
       "    </tr>\n",
       "    <tr>\n",
       "      <th>...</th>\n",
       "      <td>...</td>\n",
       "      <td>...</td>\n",
       "      <td>...</td>\n",
       "      <td>...</td>\n",
       "      <td>...</td>\n",
       "      <td>...</td>\n",
       "      <td>...</td>\n",
       "      <td>...</td>\n",
       "      <td>...</td>\n",
       "      <td>...</td>\n",
       "      <td>...</td>\n",
       "      <td>...</td>\n",
       "      <td>...</td>\n",
       "    </tr>\n",
       "    <tr>\n",
       "      <th>884</th>\n",
       "      <td>2</td>\n",
       "      <td>0</td>\n",
       "      <td>1</td>\n",
       "      <td>0</td>\n",
       "      <td>1</td>\n",
       "      <td>0</td>\n",
       "      <td>0</td>\n",
       "      <td>0</td>\n",
       "      <td>1</td>\n",
       "      <td>0</td>\n",
       "      <td>0</td>\n",
       "      <td>0</td>\n",
       "      <td>no</td>\n",
       "    </tr>\n",
       "    <tr>\n",
       "      <th>885</th>\n",
       "      <td>1</td>\n",
       "      <td>0</td>\n",
       "      <td>1</td>\n",
       "      <td>0</td>\n",
       "      <td>1</td>\n",
       "      <td>0</td>\n",
       "      <td>0</td>\n",
       "      <td>0</td>\n",
       "      <td>1</td>\n",
       "      <td>0</td>\n",
       "      <td>0</td>\n",
       "      <td>0</td>\n",
       "      <td>no</td>\n",
       "    </tr>\n",
       "    <tr>\n",
       "      <th>886</th>\n",
       "      <td>1</td>\n",
       "      <td>0</td>\n",
       "      <td>0</td>\n",
       "      <td>1</td>\n",
       "      <td>1</td>\n",
       "      <td>0</td>\n",
       "      <td>0</td>\n",
       "      <td>0</td>\n",
       "      <td>1</td>\n",
       "      <td>0</td>\n",
       "      <td>0</td>\n",
       "      <td>0</td>\n",
       "      <td>yes</td>\n",
       "    </tr>\n",
       "    <tr>\n",
       "      <th>887</th>\n",
       "      <td>2</td>\n",
       "      <td>0</td>\n",
       "      <td>1</td>\n",
       "      <td>0</td>\n",
       "      <td>0</td>\n",
       "      <td>0</td>\n",
       "      <td>0</td>\n",
       "      <td>1</td>\n",
       "      <td>1</td>\n",
       "      <td>0</td>\n",
       "      <td>0</td>\n",
       "      <td>0</td>\n",
       "      <td>no</td>\n",
       "    </tr>\n",
       "    <tr>\n",
       "      <th>888</th>\n",
       "      <td>1</td>\n",
       "      <td>1</td>\n",
       "      <td>1</td>\n",
       "      <td>0</td>\n",
       "      <td>1</td>\n",
       "      <td>0</td>\n",
       "      <td>0</td>\n",
       "      <td>0</td>\n",
       "      <td>1</td>\n",
       "      <td>0</td>\n",
       "      <td>0</td>\n",
       "      <td>0</td>\n",
       "      <td>yes</td>\n",
       "    </tr>\n",
       "  </tbody>\n",
       "</table>\n",
       "<p>789 rows × 13 columns</p>\n",
       "</div>"
      ],
      "text/plain": [
       "     Gender  Chain_smoker  Consumes_other_tobacco_products  HighBP  Obese  \\\n",
       "2         1             0                                1       0      1   \n",
       "3         1             0                                1       0      1   \n",
       "7         2             0                                1       0      1   \n",
       "8         1             0                                1       0      1   \n",
       "9         1             0                                1       0      0   \n",
       "..      ...           ...                              ...     ...    ...   \n",
       "884       2             0                                1       0      1   \n",
       "885       1             0                                1       0      1   \n",
       "886       1             0                                0       1      1   \n",
       "887       2             0                                1       0      0   \n",
       "888       1             1                                1       0      1   \n",
       "\n",
       "     Diabetes  Metabolic_syndrome  Use_of_stimulant_drugs  Family_history  \\\n",
       "2           0                   0                       0               1   \n",
       "3           0                   0                       0               1   \n",
       "7           0                   0                       0               1   \n",
       "8           0                   0                       0               1   \n",
       "9           0                   0                       1               1   \n",
       "..        ...                 ...                     ...             ...   \n",
       "884         0                   0                       0               1   \n",
       "885         0                   0                       0               1   \n",
       "886         0                   0                       0               1   \n",
       "887         0                   0                       1               1   \n",
       "888         0                   0                       0               1   \n",
       "\n",
       "     History_of_preeclampsia  CABG_history  Respiratory_illness UnderRisk  \n",
       "2                          0             0                    0        no  \n",
       "3                          0             0                    0        no  \n",
       "7                          0             0                    0        no  \n",
       "8                          0             0                    0        no  \n",
       "9                          0             0                    0        no  \n",
       "..                       ...           ...                  ...       ...  \n",
       "884                        0             0                    0        no  \n",
       "885                        0             0                    0        no  \n",
       "886                        0             0                    0       yes  \n",
       "887                        0             0                    0        no  \n",
       "888                        0             0                    0       yes  \n",
       "\n",
       "[789 rows x 13 columns]"
      ]
     },
     "execution_count": 8,
     "metadata": {},
     "output_type": "execute_result"
    }
   ],
   "source": [
    "## here Id is not provided so we can not consider below data as duplicate\n",
    "data[data.duplicated()]"
   ]
  },
  {
   "cell_type": "code",
   "execution_count": 9,
   "id": "f35c3e4c",
   "metadata": {},
   "outputs": [
    {
     "data": {
      "text/plain": [
       "UnderRisk\n",
       "no     699\n",
       "yes    190\n",
       "Name: count, dtype: int64"
      ]
     },
     "execution_count": 9,
     "metadata": {},
     "output_type": "execute_result"
    }
   ],
   "source": [
    "data[\"UnderRisk\"].value_counts()"
   ]
  },
  {
   "cell_type": "code",
   "execution_count": 10,
   "id": "3968d6d9",
   "metadata": {},
   "outputs": [
    {
     "data": {
      "text/plain": [
       "array(['no', 'yes'], dtype=object)"
      ]
     },
     "execution_count": 10,
     "metadata": {},
     "output_type": "execute_result"
    }
   ],
   "source": [
    "data[\"UnderRisk\"].unique()"
   ]
  },
  {
   "cell_type": "code",
   "execution_count": 12,
   "id": "8b39579b",
   "metadata": {},
   "outputs": [],
   "source": [
    "data[\"UnderRisk\"]=data[\"UnderRisk\"].replace(['no', 'yes'],[0,1])"
   ]
  },
  {
   "cell_type": "markdown",
   "id": "71c81bab",
   "metadata": {},
   "source": [
    "data=data.drop(\"UnderRisk\",axis=1)"
   ]
  },
  {
   "cell_type": "code",
   "execution_count": 13,
   "id": "ce5254a1",
   "metadata": {},
   "outputs": [],
   "source": [
    "from sklearn.cluster import KMeans"
   ]
  },
  {
   "cell_type": "code",
   "execution_count": 14,
   "id": "ce6013a5",
   "metadata": {},
   "outputs": [],
   "source": [
    "model=KMeans(n_clusters=2)\n",
    "data[\"clusters\"]=model.fit_predict(data)"
   ]
  },
  {
   "cell_type": "code",
   "execution_count": 15,
   "id": "36630fe4",
   "metadata": {},
   "outputs": [
    {
     "data": {
      "text/plain": [
       "0.4178921169709526"
      ]
     },
     "execution_count": 15,
     "metadata": {},
     "output_type": "execute_result"
    }
   ],
   "source": [
    "from sklearn.metrics import silhouette_score\n",
    "silhouette_score(data,data[\"clusters\"])"
   ]
  },
  {
   "cell_type": "code",
   "execution_count": 16,
   "id": "0e07cde4",
   "metadata": {},
   "outputs": [
    {
     "data": {
      "text/plain": [
       "array([[2.00000000e+00, 6.25000000e-02, 9.06250000e-01, 6.25000000e-02,\n",
       "        9.29687500e-01, 2.73437500e-02, 1.95312500e-02, 7.42187500e-02,\n",
       "        9.41406250e-01, 1.04083409e-17, 7.81250000e-03, 3.90625000e-02,\n",
       "        1.56250000e-01],\n",
       "       [9.58925750e-01, 1.43759874e-01, 8.10426540e-01, 9.63665087e-02,\n",
       "        9.14691943e-01, 6.63507109e-02, 5.21327014e-02, 8.53080569e-02,\n",
       "        9.19431280e-01, 2.52764613e-02, 2.68562401e-02, 3.00157978e-02,\n",
       "        2.36966825e-01]])"
      ]
     },
     "execution_count": 16,
     "metadata": {},
     "output_type": "execute_result"
    }
   ],
   "source": [
    "model.cluster_centers_"
   ]
  },
  {
   "cell_type": "code",
   "execution_count": 19,
   "id": "d068e9eb",
   "metadata": {},
   "outputs": [
    {
     "data": {
      "text/html": [
       "<div>\n",
       "<style scoped>\n",
       "    .dataframe tbody tr th:only-of-type {\n",
       "        vertical-align: middle;\n",
       "    }\n",
       "\n",
       "    .dataframe tbody tr th {\n",
       "        vertical-align: top;\n",
       "    }\n",
       "\n",
       "    .dataframe thead th {\n",
       "        text-align: right;\n",
       "    }\n",
       "</style>\n",
       "<table border=\"1\" class=\"dataframe\">\n",
       "  <thead>\n",
       "    <tr style=\"text-align: right;\">\n",
       "      <th></th>\n",
       "      <th>n_cluster</th>\n",
       "      <th>s_score</th>\n",
       "    </tr>\n",
       "  </thead>\n",
       "  <tbody>\n",
       "    <tr>\n",
       "      <th>0</th>\n",
       "      <td>2</td>\n",
       "      <td>0.383</td>\n",
       "    </tr>\n",
       "    <tr>\n",
       "      <th>1</th>\n",
       "      <td>3</td>\n",
       "      <td>0.455</td>\n",
       "    </tr>\n",
       "    <tr>\n",
       "      <th>2</th>\n",
       "      <td>4</td>\n",
       "      <td>0.510</td>\n",
       "    </tr>\n",
       "    <tr>\n",
       "      <th>3</th>\n",
       "      <td>5</td>\n",
       "      <td>0.585</td>\n",
       "    </tr>\n",
       "    <tr>\n",
       "      <th>4</th>\n",
       "      <td>6</td>\n",
       "      <td>0.603</td>\n",
       "    </tr>\n",
       "    <tr>\n",
       "      <th>5</th>\n",
       "      <td>7</td>\n",
       "      <td>0.670</td>\n",
       "    </tr>\n",
       "    <tr>\n",
       "      <th>6</th>\n",
       "      <td>8</td>\n",
       "      <td>0.669</td>\n",
       "    </tr>\n",
       "    <tr>\n",
       "      <th>7</th>\n",
       "      <td>9</td>\n",
       "      <td>0.690</td>\n",
       "    </tr>\n",
       "    <tr>\n",
       "      <th>8</th>\n",
       "      <td>10</td>\n",
       "      <td>0.704</td>\n",
       "    </tr>\n",
       "    <tr>\n",
       "      <th>9</th>\n",
       "      <td>11</td>\n",
       "      <td>0.713</td>\n",
       "    </tr>\n",
       "    <tr>\n",
       "      <th>10</th>\n",
       "      <td>12</td>\n",
       "      <td>0.719</td>\n",
       "    </tr>\n",
       "    <tr>\n",
       "      <th>11</th>\n",
       "      <td>13</td>\n",
       "      <td>0.739</td>\n",
       "    </tr>\n",
       "    <tr>\n",
       "      <th>12</th>\n",
       "      <td>14</td>\n",
       "      <td>0.764</td>\n",
       "    </tr>\n",
       "    <tr>\n",
       "      <th>13</th>\n",
       "      <td>15</td>\n",
       "      <td>0.776</td>\n",
       "    </tr>\n",
       "    <tr>\n",
       "      <th>14</th>\n",
       "      <td>16</td>\n",
       "      <td>0.769</td>\n",
       "    </tr>\n",
       "    <tr>\n",
       "      <th>15</th>\n",
       "      <td>17</td>\n",
       "      <td>0.799</td>\n",
       "    </tr>\n",
       "    <tr>\n",
       "      <th>16</th>\n",
       "      <td>18</td>\n",
       "      <td>0.803</td>\n",
       "    </tr>\n",
       "    <tr>\n",
       "      <th>17</th>\n",
       "      <td>19</td>\n",
       "      <td>0.811</td>\n",
       "    </tr>\n",
       "    <tr>\n",
       "      <th>18</th>\n",
       "      <td>20</td>\n",
       "      <td>0.814</td>\n",
       "    </tr>\n",
       "  </tbody>\n",
       "</table>\n",
       "</div>"
      ],
      "text/plain": [
       "    n_cluster  s_score\n",
       "0           2    0.383\n",
       "1           3    0.455\n",
       "2           4    0.510\n",
       "3           5    0.585\n",
       "4           6    0.603\n",
       "5           7    0.670\n",
       "6           8    0.669\n",
       "7           9    0.690\n",
       "8          10    0.704\n",
       "9          11    0.713\n",
       "10         12    0.719\n",
       "11         13    0.739\n",
       "12         14    0.764\n",
       "13         15    0.776\n",
       "14         16    0.769\n",
       "15         17    0.799\n",
       "16         18    0.803\n",
       "17         19    0.811\n",
       "18         20    0.814"
      ]
     },
     "execution_count": 19,
     "metadata": {},
     "output_type": "execute_result"
    }
   ],
   "source": [
    "result={\"n_cluster\":[],\n",
    "    \"s_score\":[]}\n",
    "for i in range(2,21):\n",
    "    model=KMeans(n_clusters=i)\n",
    "    result[\"n_cluster\"].append(i)\n",
    "    data[\"clusters\"]=model.fit_predict(data)\n",
    "    result[\"s_score\"].append(silhouette_score(data,data[\"clusters\"]))\n",
    "result=pd.DataFrame(result)\n",
    "result"
   ]
  },
  {
   "cell_type": "markdown",
   "id": "624a5338",
   "metadata": {},
   "source": [
    "s_score"
   ]
  },
  {
   "cell_type": "code",
   "execution_count": 20,
   "id": "658c7e68",
   "metadata": {},
   "outputs": [],
   "source": [
    "wcss=[]\n",
    "\n",
    "for i in range(2,21):\n",
    "    model=KMeans(n_clusters=i,random_state=42)\n",
    "    data[\"clusters\"]=model.fit_predict(data)\n",
    "    wcss.append(model.inertia_)"
   ]
  },
  {
   "cell_type": "code",
   "execution_count": 21,
   "id": "1213f166",
   "metadata": {},
   "outputs": [
    {
     "data": {
      "image/png": "[encoded data removed]",
      "text/plain": [
       "<Figure size 1000x700 with 1 Axes>"
      ]
     },
     "metadata": {},
     "output_type": "display_data"
    }
   ],
   "source": [
    "plt.figure(figsize=(10,7))\n",
    "plt.plot(range(2,21),wcss,marker=\"o\")\n",
    "plt.xlabel(\"Number of clusters\")\n",
    "plt.ylabel(\"WCSS value\")\n",
    "plt.show()"
   ]
  },
  {
   "cell_type": "code",
   "execution_count": 22,
   "id": "689f9d56",
   "metadata": {},
   "outputs": [
    {
     "name": "stdout",
     "output_type": "stream",
     "text": [
      "WCSS score for 2 is 6754.037469509787\n",
      "WCSS score for 3 is 783.8383193519188\n",
      "WCSS score for 4 is 530.389825830463\n",
      "WCSS score for 5 is 461.27662614396536\n",
      "WCSS score for 6 is 411.3549616223009\n",
      "WCSS score for 7 is 366.21574005141855\n",
      "WCSS score for 8 is 336.49655237634835\n",
      "WCSS score for 9 is 312.11568549210415\n",
      "WCSS score for 10 is 308.05845178781163\n",
      "WCSS score for 11 is 282.3779149103886\n",
      "WCSS score for 12 is 257.0191112947802\n",
      "WCSS score for 13 is 242.83149600841563\n",
      "WCSS score for 14 is 227.08817224316994\n",
      "WCSS score for 15 is 215.28281719868448\n",
      "WCSS score for 16 is 208.3010693850553\n",
      "WCSS score for 17 is 194.15082428701564\n",
      "WCSS score for 18 is 189.55292955017353\n",
      "WCSS score for 19 is 183.92820887978246\n",
      "WCSS score for 20 is 178.96409226087212\n"
     ]
    }
   ],
   "source": [
    "for idx,score in enumerate(wcss,start=2):\n",
    "    print(f\"WCSS score for {idx} is {score}\")\n",
    "    \n"
   ]
  },
  {
   "cell_type": "code",
   "execution_count": 23,
   "id": "7930c412",
   "metadata": {},
   "outputs": [
    {
     "data": {
      "text/plain": [
       "0.38812321577037984"
      ]
     },
     "execution_count": 23,
     "metadata": {},
     "output_type": "execute_result"
    }
   ],
   "source": [
    "## from above graph of wcss value, 3 is break point and is most suitable for optimum result\n",
    "model=KMeans(n_clusters=3,random_state=42)\n",
    "data[\"clusters\"]=model.fit_predict(data)\n",
    "silhouette_score(data,data[\"clusters\"])"
   ]
  },
  {
   "cell_type": "code",
   "execution_count": 24,
   "id": "6664c2c4",
   "metadata": {},
   "outputs": [
    {
     "name": "stdout",
     "output_type": "stream",
     "text": [
      "2884.1403189435473\n"
     ]
    }
   ],
   "source": [
    "wcss=model.inertia_\n",
    "print(wcss)"
   ]
  },
  {
   "cell_type": "code",
   "execution_count": 25,
   "id": "53fef2e6",
   "metadata": {},
   "outputs": [],
   "source": [
    "data=pd.read_csv(r\"ML Project - Clustering Cardiac Arrest U16955461930.csv\")\n",
    "data=data.drop(\"UnderRisk\",axis=1)"
   ]
  },
  {
   "cell_type": "code",
   "execution_count": 26,
   "id": "ede225a0",
   "metadata": {},
   "outputs": [],
   "source": [
    "from scipy.cluster.hierarchy import dendrogram,linkage"
   ]
  },
  {
   "cell_type": "code",
   "execution_count": 27,
   "id": "11c36d29",
   "metadata": {},
   "outputs": [
    {
     "data": {
      "image/png": "[encoded data removed]",
      "text/plain": [
       "<Figure size 640x480 with 1 Axes>"
      ]
     },
     "metadata": {},
     "output_type": "display_data"
    }
   ],
   "source": [
    "merge=linkage(data,method=\"ward\")\n",
    "dendrogram(merge,leaf_rotation=90)\n",
    "plt.xlabel(\"data points\")\n",
    "plt.ylabel(\"Eucladian distance between datapoints\")\n",
    "plt.show()\n"
   ]
  },
  {
   "cell_type": "code",
   "execution_count": 28,
   "id": "058c8b85",
   "metadata": {},
   "outputs": [],
   "source": [
    "### Applying Agglomatarative clustering\n",
    "from sklearn.cluster import AgglomerativeClustering"
   ]
  },
  {
   "cell_type": "code",
   "execution_count": 29,
   "id": "b25890ed",
   "metadata": {},
   "outputs": [],
   "source": [
    "model=AgglomerativeClustering(n_clusters=6,linkage=\"ward\")\n",
    "data[\"clusters\"]=model.fit_predict(data)"
   ]
  },
  {
   "cell_type": "code",
   "execution_count": 41,
   "id": "ece20ca9",
   "metadata": {},
   "outputs": [
    {
     "data": {
      "text/plain": [
       "0      2\n",
       "1      1\n",
       "2      1\n",
       "3      1\n",
       "4      0\n",
       "      ..\n",
       "884    5\n",
       "885    1\n",
       "886    3\n",
       "887    0\n",
       "888    2\n",
       "Name: clusters, Length: 889, dtype: int64"
      ]
     },
     "execution_count": 41,
     "metadata": {},
     "output_type": "execute_result"
    }
   ],
   "source": [
    "data[\"clusters\"]"
   ]
  },
  {
   "cell_type": "code",
   "execution_count": 30,
   "id": "f3c345f0",
   "metadata": {},
   "outputs": [
    {
     "data": {
      "text/plain": [
       "0.6832654795236572"
      ]
     },
     "execution_count": 30,
     "metadata": {},
     "output_type": "execute_result"
    }
   ],
   "source": [
    "silhouette_score(data,data[\"clusters\"])"
   ]
  },
  {
   "cell_type": "markdown",
   "id": "b82c2b54",
   "metadata": {},
   "source": [
    "# scipy.cluster.Hirarchiecal and sklearn.cluster.Agglomarative cluster doesn't have wcss score and cluster_center_"
   ]
  },
  {
   "cell_type": "code",
   "execution_count": null,
   "id": "a8bca941",
   "metadata": {},
   "outputs": [],
   "source": []
  }
 ],
 "metadata": {
  "kernelspec": {
   "display_name": "Python 3 (ipykernel)",
   "language": "python",
   "name": "python3"
  },
  "language_info": {
   "codemirror_mode": {
    "name": "ipython",
    "version": 3
   },
   "file_extension": ".py",
   "mimetype": "text/x-python",
   "name": "python",
   "nbconvert_exporter": "python",
   "pygments_lexer": "ipython3",
   "version": "3.11.7"
  }
 },
 "nbformat": 4,
 "nbformat_minor": 5
}
